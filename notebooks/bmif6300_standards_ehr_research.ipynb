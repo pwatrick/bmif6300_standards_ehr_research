{
  "nbformat": 4,
  "nbformat_minor": 0,
  "metadata": {
    "colab": {
      "name": "bmif6300_standards_ehr_research.ipynb",
      "provenance": []
    },
    "kernelspec": {
      "name": "python3",
      "display_name": "Python 3"
    }
  },
  "cells": [
    {
      "cell_type": "markdown",
      "metadata": {
        "id": "kkbXbPQ6GvpS"
      },
      "source": [
        "# Standards in EHR research\n",
        "\n",
        "**Author:** Patrick Wu  \n",
        "**Date:** 2020-12-03    \n",
        "\n",
        "CSV files were sourced from [Observational Health Data Sciences (OHDSI)](https://ohdsi.org/).   "
      ]
    },
    {
      "cell_type": "markdown",
      "metadata": {
        "id": "jqkeN-oHJEgo"
      },
      "source": [
        "## Goal: Map **ICD-10-CM** codes to **SNOMED** codes"
      ]
    },
    {
      "cell_type": "markdown",
      "metadata": {
        "id": "ZJd09RMYHGfj"
      },
      "source": [
        "### Import software libraries"
      ]
    },
    {
      "cell_type": "code",
      "metadata": {
        "id": "q0aypxIEGrgs"
      },
      "source": [
        "#Use 'pandas' to manipulate data stored in tables (https://pandas.pydata.org/)\n",
        "import pandas as pd\n",
        "##To disable truncation\n",
        "pd.set_option('display.max_colwidth', None)"
      ],
      "execution_count": 1,
      "outputs": []
    },
    {
      "cell_type": "markdown",
      "metadata": {
        "id": "v0A3exoSH-1I"
      },
      "source": [
        "### Import sample OHDSI data"
      ]
    },
    {
      "cell_type": "code",
      "metadata": {
        "id": "T7bkvHYo39Iq"
      },
      "source": [
        "#Import sample OHDSI CONCEPT table (https://ohdsi.github.io/CommonDataModel/cdm60.html#concept)\n",
        "##Define a variable and assign the URL for the csv file of interest\n",
        "sample_concepts_file = 'https://raw.githubusercontent.com/pwatrick/bmif6300_standards_ehr_research/main/data/sample_concepts.csv' \n",
        "##Use pandas to import csv file of interest\n",
        "sample_concepts = pd.read_csv(sample_concepts_file)\n",
        "\n",
        "#Import sample OHDSI CONCEPT_RELATIONSHIP table (https://ohdsi.github.io/CommonDataModel/cdm60.html#concept_relationship)\n",
        "sample_mappings_file = 'https://raw.githubusercontent.com/pwatrick/bmif6300_standards_ehr_research/main/data/sample_icd10cm_snomed_mappings.csv'\n",
        "sample_mappings = pd.read_csv(sample_mappings_file)\n",
        "\n",
        "#Import sample patient data\n",
        "sample_patient_file = 'https://raw.githubusercontent.com/pwatrick/bmif6300_standards_ehr_research/main/data/sample_patient.csv'\n",
        "sample_patient = pd.read_csv(sample_patient_file)"
      ],
      "execution_count": 2,
      "outputs": []
    },
    {
      "cell_type": "markdown",
      "metadata": {
        "id": "y1bTgDtPIPfv"
      },
      "source": [
        "### Look at structure of imported data\n",
        "\n",
        "\n"
      ]
    },
    {
      "cell_type": "code",
      "metadata": {
        "colab": {
          "base_uri": "https://localhost:8080/",
          "height": 111
        },
        "id": "G-BTOcvsIUSN",
        "outputId": "428a9740-da49-4987-a2c6-5c6f7ec64741"
      },
      "source": [
        "sample_concepts.head(2)"
      ],
      "execution_count": 3,
      "outputs": [
        {
          "output_type": "execute_result",
          "data": {
            "text/html": [
              "<div>\n",
              "<style scoped>\n",
              "    .dataframe tbody tr th:only-of-type {\n",
              "        vertical-align: middle;\n",
              "    }\n",
              "\n",
              "    .dataframe tbody tr th {\n",
              "        vertical-align: top;\n",
              "    }\n",
              "\n",
              "    .dataframe thead th {\n",
              "        text-align: right;\n",
              "    }\n",
              "</style>\n",
              "<table border=\"1\" class=\"dataframe\">\n",
              "  <thead>\n",
              "    <tr style=\"text-align: right;\">\n",
              "      <th></th>\n",
              "      <th>CONCEPT_ID</th>\n",
              "      <th>CONCEPT_NAME</th>\n",
              "      <th>VOCABULARY_ID</th>\n",
              "      <th>CONCEPT_CODE</th>\n",
              "    </tr>\n",
              "  </thead>\n",
              "  <tbody>\n",
              "    <tr>\n",
              "      <th>0</th>\n",
              "      <td>35207064</td>\n",
              "      <td>Other hyperlipidemia</td>\n",
              "      <td>ICD10CM</td>\n",
              "      <td>E78.4</td>\n",
              "    </tr>\n",
              "    <tr>\n",
              "      <th>1</th>\n",
              "      <td>201826</td>\n",
              "      <td>Type 2 diabetes mellitus</td>\n",
              "      <td>SNOMED</td>\n",
              "      <td>44054006</td>\n",
              "    </tr>\n",
              "  </tbody>\n",
              "</table>\n",
              "</div>"
            ],
            "text/plain": [
              "   CONCEPT_ID              CONCEPT_NAME VOCABULARY_ID CONCEPT_CODE\n",
              "0    35207064      Other hyperlipidemia       ICD10CM        E78.4\n",
              "1      201826  Type 2 diabetes mellitus        SNOMED     44054006"
            ]
          },
          "metadata": {
            "tags": []
          },
          "execution_count": 3
        }
      ]
    },
    {
      "cell_type": "code",
      "metadata": {
        "colab": {
          "base_uri": "https://localhost:8080/",
          "height": 111
        },
        "id": "IMskmqtTIXit",
        "outputId": "e55c3b75-061e-4d8a-de31-0b51865b9936"
      },
      "source": [
        "sample_mappings.head(2)"
      ],
      "execution_count": 4,
      "outputs": [
        {
          "output_type": "execute_result",
          "data": {
            "text/html": [
              "<div>\n",
              "<style scoped>\n",
              "    .dataframe tbody tr th:only-of-type {\n",
              "        vertical-align: middle;\n",
              "    }\n",
              "\n",
              "    .dataframe tbody tr th {\n",
              "        vertical-align: top;\n",
              "    }\n",
              "\n",
              "    .dataframe thead th {\n",
              "        text-align: right;\n",
              "    }\n",
              "</style>\n",
              "<table border=\"1\" class=\"dataframe\">\n",
              "  <thead>\n",
              "    <tr style=\"text-align: right;\">\n",
              "      <th></th>\n",
              "      <th>CONCEPT_ID_1</th>\n",
              "      <th>CONCEPT_ID_2</th>\n",
              "      <th>RELATIONSHIP_ID</th>\n",
              "    </tr>\n",
              "  </thead>\n",
              "  <tbody>\n",
              "    <tr>\n",
              "      <th>0</th>\n",
              "      <td>35207064</td>\n",
              "      <td>432867</td>\n",
              "      <td>Maps to</td>\n",
              "    </tr>\n",
              "    <tr>\n",
              "      <th>1</th>\n",
              "      <td>35206881</td>\n",
              "      <td>442793</td>\n",
              "      <td>Maps to</td>\n",
              "    </tr>\n",
              "  </tbody>\n",
              "</table>\n",
              "</div>"
            ],
            "text/plain": [
              "   CONCEPT_ID_1  CONCEPT_ID_2 RELATIONSHIP_ID\n",
              "0      35207064        432867         Maps to\n",
              "1      35206881        442793         Maps to"
            ]
          },
          "metadata": {
            "tags": []
          },
          "execution_count": 4
        }
      ]
    },
    {
      "cell_type": "code",
      "metadata": {
        "colab": {
          "base_uri": "https://localhost:8080/",
          "height": 142
        },
        "id": "O9lzibtfL_nz",
        "outputId": "e863f1e3-54e2-45c5-9e94-761925806f5c"
      },
      "source": [
        "sample_patient"
      ],
      "execution_count": 5,
      "outputs": [
        {
          "output_type": "execute_result",
          "data": {
            "text/html": [
              "<div>\n",
              "<style scoped>\n",
              "    .dataframe tbody tr th:only-of-type {\n",
              "        vertical-align: middle;\n",
              "    }\n",
              "\n",
              "    .dataframe tbody tr th {\n",
              "        vertical-align: top;\n",
              "    }\n",
              "\n",
              "    .dataframe thead th {\n",
              "        text-align: right;\n",
              "    }\n",
              "</style>\n",
              "<table border=\"1\" class=\"dataframe\">\n",
              "  <thead>\n",
              "    <tr style=\"text-align: right;\">\n",
              "      <th></th>\n",
              "      <th>id</th>\n",
              "      <th>icd10cm_code</th>\n",
              "    </tr>\n",
              "  </thead>\n",
              "  <tbody>\n",
              "    <tr>\n",
              "      <th>0</th>\n",
              "      <td>1</td>\n",
              "      <td>E78.4</td>\n",
              "    </tr>\n",
              "    <tr>\n",
              "      <th>1</th>\n",
              "      <td>1</td>\n",
              "      <td>I10</td>\n",
              "    </tr>\n",
              "    <tr>\n",
              "      <th>2</th>\n",
              "      <td>1</td>\n",
              "      <td>E11.8</td>\n",
              "    </tr>\n",
              "  </tbody>\n",
              "</table>\n",
              "</div>"
            ],
            "text/plain": [
              "   id icd10cm_code\n",
              "0   1        E78.4\n",
              "1   1          I10\n",
              "2   1        E11.8"
            ]
          },
          "metadata": {
            "tags": []
          },
          "execution_count": 5
        }
      ]
    },
    {
      "cell_type": "markdown",
      "metadata": {
        "id": "8y-_BeDcf67n"
      },
      "source": [
        "### Create dataframe that maps ICD-10-CM to SNOMED"
      ]
    },
    {
      "cell_type": "markdown",
      "metadata": {
        "id": "n0BENJ6JgRMN"
      },
      "source": [
        "Transform SNOMED dataframe"
      ]
    },
    {
      "cell_type": "code",
      "metadata": {
        "id": "PuBIbuN1RAYW"
      },
      "source": [
        "snomed_codes = sample_concepts[sample_concepts['VOCABULARY_ID'] == 'SNOMED']\n",
        "snomed_codes = snomed_codes[['CONCEPT_ID', 'CONCEPT_NAME', 'CONCEPT_CODE']].copy()\n",
        "snomed_codes.columns = ['snomed_concept_id', 'snomed_name', 'snomed_code']"
      ],
      "execution_count": 6,
      "outputs": []
    },
    {
      "cell_type": "code",
      "metadata": {
        "colab": {
          "base_uri": "https://localhost:8080/",
          "height": 173
        },
        "id": "AvCm44xNgs8m",
        "outputId": "852f7fd8-b1bc-406b-a799-fa638f1bfa93"
      },
      "source": [
        "snomed_codes"
      ],
      "execution_count": 7,
      "outputs": [
        {
          "output_type": "execute_result",
          "data": {
            "text/html": [
              "<div>\n",
              "<style scoped>\n",
              "    .dataframe tbody tr th:only-of-type {\n",
              "        vertical-align: middle;\n",
              "    }\n",
              "\n",
              "    .dataframe tbody tr th {\n",
              "        vertical-align: top;\n",
              "    }\n",
              "\n",
              "    .dataframe thead th {\n",
              "        text-align: right;\n",
              "    }\n",
              "</style>\n",
              "<table border=\"1\" class=\"dataframe\">\n",
              "  <thead>\n",
              "    <tr style=\"text-align: right;\">\n",
              "      <th></th>\n",
              "      <th>snomed_concept_id</th>\n",
              "      <th>snomed_name</th>\n",
              "      <th>snomed_code</th>\n",
              "    </tr>\n",
              "  </thead>\n",
              "  <tbody>\n",
              "    <tr>\n",
              "      <th>1</th>\n",
              "      <td>201826</td>\n",
              "      <td>Type 2 diabetes mellitus</td>\n",
              "      <td>44054006</td>\n",
              "    </tr>\n",
              "    <tr>\n",
              "      <th>2</th>\n",
              "      <td>442793</td>\n",
              "      <td>Diabetic complication</td>\n",
              "      <td>74627003</td>\n",
              "    </tr>\n",
              "    <tr>\n",
              "      <th>5</th>\n",
              "      <td>320128</td>\n",
              "      <td>Essential hypertension</td>\n",
              "      <td>59621000</td>\n",
              "    </tr>\n",
              "    <tr>\n",
              "      <th>6</th>\n",
              "      <td>432867</td>\n",
              "      <td>Hyperlipidemia</td>\n",
              "      <td>55822004</td>\n",
              "    </tr>\n",
              "  </tbody>\n",
              "</table>\n",
              "</div>"
            ],
            "text/plain": [
              "   snomed_concept_id               snomed_name snomed_code\n",
              "1             201826  Type 2 diabetes mellitus    44054006\n",
              "2             442793     Diabetic complication    74627003\n",
              "5             320128    Essential hypertension    59621000\n",
              "6             432867            Hyperlipidemia    55822004"
            ]
          },
          "metadata": {
            "tags": []
          },
          "execution_count": 7
        }
      ]
    },
    {
      "cell_type": "markdown",
      "metadata": {
        "id": "hV2SXsAKgZe9"
      },
      "source": [
        "Transform ICD-10-CM dataframe"
      ]
    },
    {
      "cell_type": "code",
      "metadata": {
        "id": "-DXuyfWqJgK4"
      },
      "source": [
        "icd10cm_codes = sample_concepts[sample_concepts['VOCABULARY_ID'] == \"ICD10CM\"].copy()\n",
        "icd10cm_codes = icd10cm_codes[['CONCEPT_ID', 'CONCEPT_NAME', 'CONCEPT_CODE']].copy()\n",
        "icd10cm_codes.columns = ['icd10cm_concept_id', 'icd10cm_name', 'icd10cm_code']"
      ],
      "execution_count": 8,
      "outputs": []
    },
    {
      "cell_type": "code",
      "metadata": {
        "colab": {
          "base_uri": "https://localhost:8080/",
          "height": 142
        },
        "id": "QQrWxtVigvlY",
        "outputId": "b69def1e-9b53-44e5-e262-5bcc594fb398"
      },
      "source": [
        "icd10cm_codes"
      ],
      "execution_count": 9,
      "outputs": [
        {
          "output_type": "execute_result",
          "data": {
            "text/html": [
              "<div>\n",
              "<style scoped>\n",
              "    .dataframe tbody tr th:only-of-type {\n",
              "        vertical-align: middle;\n",
              "    }\n",
              "\n",
              "    .dataframe tbody tr th {\n",
              "        vertical-align: top;\n",
              "    }\n",
              "\n",
              "    .dataframe thead th {\n",
              "        text-align: right;\n",
              "    }\n",
              "</style>\n",
              "<table border=\"1\" class=\"dataframe\">\n",
              "  <thead>\n",
              "    <tr style=\"text-align: right;\">\n",
              "      <th></th>\n",
              "      <th>icd10cm_concept_id</th>\n",
              "      <th>icd10cm_name</th>\n",
              "      <th>icd10cm_code</th>\n",
              "    </tr>\n",
              "  </thead>\n",
              "  <tbody>\n",
              "    <tr>\n",
              "      <th>0</th>\n",
              "      <td>35207064</td>\n",
              "      <td>Other hyperlipidemia</td>\n",
              "      <td>E78.4</td>\n",
              "    </tr>\n",
              "    <tr>\n",
              "      <th>3</th>\n",
              "      <td>35207668</td>\n",
              "      <td>Essential (primary) hypertension</td>\n",
              "      <td>I10</td>\n",
              "    </tr>\n",
              "    <tr>\n",
              "      <th>4</th>\n",
              "      <td>35206881</td>\n",
              "      <td>Type 2 diabetes mellitus with unspecified complications</td>\n",
              "      <td>E11.8</td>\n",
              "    </tr>\n",
              "  </tbody>\n",
              "</table>\n",
              "</div>"
            ],
            "text/plain": [
              "   icd10cm_concept_id  ... icd10cm_code\n",
              "0            35207064  ...        E78.4\n",
              "3            35207668  ...          I10\n",
              "4            35206881  ...        E11.8\n",
              "\n",
              "[3 rows x 3 columns]"
            ]
          },
          "metadata": {
            "tags": []
          },
          "execution_count": 9
        }
      ]
    },
    {
      "cell_type": "markdown",
      "metadata": {
        "id": "HC-n-H1vggJO"
      },
      "source": [
        "Merge dataframes"
      ]
    },
    {
      "cell_type": "code",
      "metadata": {
        "id": "hCp86ZTpQi7V"
      },
      "source": [
        "icd10cm_to_snomed = pd.merge(icd10cm_codes, sample_mappings, left_on = ['icd10cm_concept_id'], right_on = ['CONCEPT_ID_1'], how = 'inner')\n",
        "icd10cm_to_snomed = pd.merge(icd10cm_to_snomed, snomed_codes, left_on = ['CONCEPT_ID_2'], right_on = ['snomed_concept_id'], how = 'inner')\n",
        "icd10cm_to_snomed = icd10cm_to_snomed[['icd10cm_code', 'icd10cm_name', 'snomed_code', 'snomed_name']].copy()"
      ],
      "execution_count": 10,
      "outputs": []
    },
    {
      "cell_type": "code",
      "metadata": {
        "colab": {
          "base_uri": "https://localhost:8080/",
          "height": 173
        },
        "id": "Eg4Or9h2Q3gz",
        "outputId": "12ace2fa-fca1-42fe-9405-06a3c085911d"
      },
      "source": [
        "icd10cm_to_snomed"
      ],
      "execution_count": 11,
      "outputs": [
        {
          "output_type": "execute_result",
          "data": {
            "text/html": [
              "<div>\n",
              "<style scoped>\n",
              "    .dataframe tbody tr th:only-of-type {\n",
              "        vertical-align: middle;\n",
              "    }\n",
              "\n",
              "    .dataframe tbody tr th {\n",
              "        vertical-align: top;\n",
              "    }\n",
              "\n",
              "    .dataframe thead th {\n",
              "        text-align: right;\n",
              "    }\n",
              "</style>\n",
              "<table border=\"1\" class=\"dataframe\">\n",
              "  <thead>\n",
              "    <tr style=\"text-align: right;\">\n",
              "      <th></th>\n",
              "      <th>icd10cm_code</th>\n",
              "      <th>icd10cm_name</th>\n",
              "      <th>snomed_code</th>\n",
              "      <th>snomed_name</th>\n",
              "    </tr>\n",
              "  </thead>\n",
              "  <tbody>\n",
              "    <tr>\n",
              "      <th>0</th>\n",
              "      <td>E78.4</td>\n",
              "      <td>Other hyperlipidemia</td>\n",
              "      <td>55822004</td>\n",
              "      <td>Hyperlipidemia</td>\n",
              "    </tr>\n",
              "    <tr>\n",
              "      <th>1</th>\n",
              "      <td>I10</td>\n",
              "      <td>Essential (primary) hypertension</td>\n",
              "      <td>59621000</td>\n",
              "      <td>Essential hypertension</td>\n",
              "    </tr>\n",
              "    <tr>\n",
              "      <th>2</th>\n",
              "      <td>E11.8</td>\n",
              "      <td>Type 2 diabetes mellitus with unspecified complications</td>\n",
              "      <td>74627003</td>\n",
              "      <td>Diabetic complication</td>\n",
              "    </tr>\n",
              "    <tr>\n",
              "      <th>3</th>\n",
              "      <td>E11.8</td>\n",
              "      <td>Type 2 diabetes mellitus with unspecified complications</td>\n",
              "      <td>44054006</td>\n",
              "      <td>Type 2 diabetes mellitus</td>\n",
              "    </tr>\n",
              "  </tbody>\n",
              "</table>\n",
              "</div>"
            ],
            "text/plain": [
              "  icd10cm_code  ...               snomed_name\n",
              "0        E78.4  ...            Hyperlipidemia\n",
              "1          I10  ...    Essential hypertension\n",
              "2        E11.8  ...     Diabetic complication\n",
              "3        E11.8  ...  Type 2 diabetes mellitus\n",
              "\n",
              "[4 rows x 4 columns]"
            ]
          },
          "metadata": {
            "tags": []
          },
          "execution_count": 11
        }
      ]
    },
    {
      "cell_type": "markdown",
      "metadata": {
        "id": "MAHP93FhIiyP"
      },
      "source": [
        "### Map patient's **ICD-10-CM** codes to **SNOMED** codes"
      ]
    },
    {
      "cell_type": "code",
      "metadata": {
        "id": "DvYDIqHZIrVe"
      },
      "source": [
        "sample_patient_snomed = pd.merge(sample_patient, icd10cm_to_snomed, on = ['icd10cm_code'], how = 'inner')"
      ],
      "execution_count": 12,
      "outputs": []
    },
    {
      "cell_type": "code",
      "metadata": {
        "colab": {
          "base_uri": "https://localhost:8080/",
          "height": 173
        },
        "id": "Krw2AwW-Sdqv",
        "outputId": "dcb257af-35b4-40d8-e0eb-e3b8b05bb744"
      },
      "source": [
        "sample_patient_snomed"
      ],
      "execution_count": 13,
      "outputs": [
        {
          "output_type": "execute_result",
          "data": {
            "text/html": [
              "<div>\n",
              "<style scoped>\n",
              "    .dataframe tbody tr th:only-of-type {\n",
              "        vertical-align: middle;\n",
              "    }\n",
              "\n",
              "    .dataframe tbody tr th {\n",
              "        vertical-align: top;\n",
              "    }\n",
              "\n",
              "    .dataframe thead th {\n",
              "        text-align: right;\n",
              "    }\n",
              "</style>\n",
              "<table border=\"1\" class=\"dataframe\">\n",
              "  <thead>\n",
              "    <tr style=\"text-align: right;\">\n",
              "      <th></th>\n",
              "      <th>id</th>\n",
              "      <th>icd10cm_code</th>\n",
              "      <th>icd10cm_name</th>\n",
              "      <th>snomed_code</th>\n",
              "      <th>snomed_name</th>\n",
              "    </tr>\n",
              "  </thead>\n",
              "  <tbody>\n",
              "    <tr>\n",
              "      <th>0</th>\n",
              "      <td>1</td>\n",
              "      <td>E78.4</td>\n",
              "      <td>Other hyperlipidemia</td>\n",
              "      <td>55822004</td>\n",
              "      <td>Hyperlipidemia</td>\n",
              "    </tr>\n",
              "    <tr>\n",
              "      <th>1</th>\n",
              "      <td>1</td>\n",
              "      <td>I10</td>\n",
              "      <td>Essential (primary) hypertension</td>\n",
              "      <td>59621000</td>\n",
              "      <td>Essential hypertension</td>\n",
              "    </tr>\n",
              "    <tr>\n",
              "      <th>2</th>\n",
              "      <td>1</td>\n",
              "      <td>E11.8</td>\n",
              "      <td>Type 2 diabetes mellitus with unspecified complications</td>\n",
              "      <td>74627003</td>\n",
              "      <td>Diabetic complication</td>\n",
              "    </tr>\n",
              "    <tr>\n",
              "      <th>3</th>\n",
              "      <td>1</td>\n",
              "      <td>E11.8</td>\n",
              "      <td>Type 2 diabetes mellitus with unspecified complications</td>\n",
              "      <td>44054006</td>\n",
              "      <td>Type 2 diabetes mellitus</td>\n",
              "    </tr>\n",
              "  </tbody>\n",
              "</table>\n",
              "</div>"
            ],
            "text/plain": [
              "   id icd10cm_code  ... snomed_code               snomed_name\n",
              "0   1        E78.4  ...    55822004            Hyperlipidemia\n",
              "1   1          I10  ...    59621000    Essential hypertension\n",
              "2   1        E11.8  ...    74627003     Diabetic complication\n",
              "3   1        E11.8  ...    44054006  Type 2 diabetes mellitus\n",
              "\n",
              "[4 rows x 5 columns]"
            ]
          },
          "metadata": {
            "tags": []
          },
          "execution_count": 13
        }
      ]
    }
  ]
}